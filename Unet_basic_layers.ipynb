{
  "nbformat": 4,
  "nbformat_minor": 0,
  "metadata": {
    "colab": {
      "provenance": [],
      "include_colab_link": true
    },
    "kernelspec": {
      "display_name": "Python 3",
      "language": "python",
      "name": "python3"
    },
    "language_info": {
      "codemirror_mode": {
        "name": "ipython",
        "version": 3
      },
      "file_extension": ".py",
      "mimetype": "text/x-python",
      "name": "python",
      "nbconvert_exporter": "python",
      "pygments_lexer": "ipython3",
      "version": "3.7.3"
    }
  },
  "cells": [
    {
      "cell_type": "markdown",
      "metadata": {
        "id": "view-in-github",
        "colab_type": "text"
      },
      "source": [
        "<a href=\"https://colab.research.google.com/github/martin-ss/Semantic-Segmentation-COVID-19/blob/main/Unet_basic_layers.ipynb\" target=\"_parent\"><img src=\"https://colab.research.google.com/assets/colab-badge.svg\" alt=\"Open In Colab\"/></a>"
      ]
    },
    {
      "cell_type": "code",
      "metadata": {
        "id": "La-kO_Njz4x4",
        "outputId": "6024e0ef-00c1-4be5-f547-80523a61cb4b",
        "colab": {
          "base_uri": "https://localhost:8080/",
          "height": 51
        }
      },
      "source": [
        "import keras\n",
        "from tensorflow.keras import layers\n",
        "import tensorflow as tf\n",
        "import numpy as np\n",
        "from tensorflow import keras\n",
        "from tensorflow.keras import layers\n",
        "input=keras.Input((572,572,3)) # this layer is in core layer of keras documentation\n",
        "print(input.shape)"
      ],
      "execution_count": null,
      "outputs": [
        {
          "output_type": "stream",
          "text": [
            "Using TensorFlow backend.\n"
          ],
          "name": "stderr"
        },
        {
          "output_type": "stream",
          "text": [
            "(None, 572, 572, 3)\n"
          ],
          "name": "stdout"
        }
      ]
    },
    {
      "cell_type": "code",
      "metadata": {
        "id": "z7d-ONPr1erh",
        "outputId": "bf28a516-6cb3-47cf-aa93-fdfafe6e5201",
        "colab": {
          "base_uri": "https://localhost:8080/",
          "height": 34
        }
      },
      "source": [
        "x=input\n",
        "C1= tf.keras.layers.Conv2D(64, 3, activation='relu')(x)\n",
        "print(C1.shape)"
      ],
      "execution_count": null,
      "outputs": [
        {
          "output_type": "stream",
          "text": [
            "(None, 570, 570, 64)\n"
          ],
          "name": "stdout"
        }
      ]
    },
    {
      "cell_type": "code",
      "metadata": {
        "id": "lNDahDyB130w",
        "outputId": "f3296a95-97a7-4ab8-aabc-70a2c2174440",
        "colab": {
          "base_uri": "https://localhost:8080/",
          "height": 34
        }
      },
      "source": [
        "C2= tf.keras.layers.Conv2D(64, 3, activation='relu')(C1)\n",
        "print(C2.shape)"
      ],
      "execution_count": null,
      "outputs": [
        {
          "output_type": "stream",
          "text": [
            "(None, 568, 568, 64)\n"
          ],
          "name": "stdout"
        }
      ]
    },
    {
      "cell_type": "code",
      "metadata": {
        "id": "9N7inHfb1_7Q",
        "outputId": "9355a615-7557-4ed4-a450-290a97dbbb0d",
        "colab": {
          "base_uri": "https://localhost:8080/",
          "height": 34
        }
      },
      "source": [
        "Pool1=tf.keras.layers.MaxPool2D(pool_size=(2,2),padding='valid')(C2)\n",
        "print(Pool1.shape)\n"
      ],
      "execution_count": null,
      "outputs": [
        {
          "output_type": "stream",
          "text": [
            "(None, 284, 284, 64)\n"
          ],
          "name": "stdout"
        }
      ]
    },
    {
      "cell_type": "code",
      "metadata": {
        "id": "SVXIYLf52Edo",
        "outputId": "7fc84a2a-8479-4af2-f542-887101ed3e94",
        "colab": {
          "base_uri": "https://localhost:8080/",
          "height": 34
        }
      },
      "source": [
        "P_C1=tf.keras.layers.Conv2D(128,3,activation='relu')(Pool1)\n",
        "print(P_C1.shape)\n"
      ],
      "execution_count": null,
      "outputs": [
        {
          "output_type": "stream",
          "text": [
            "(None, 282, 282, 128)\n"
          ],
          "name": "stdout"
        }
      ]
    },
    {
      "cell_type": "code",
      "metadata": {
        "id": "seFbWbjk2HSQ",
        "outputId": "be7435c5-6b1b-4121-aa6d-bfadd22526e0",
        "colab": {
          "base_uri": "https://localhost:8080/",
          "height": 34
        }
      },
      "source": [
        "P_C2=tf.keras.layers.Conv2D(128,3,activation='relu')(P_C1)\n",
        "print(P_C2.shape)\n"
      ],
      "execution_count": null,
      "outputs": [
        {
          "output_type": "stream",
          "text": [
            "(None, 280, 280, 128)\n"
          ],
          "name": "stdout"
        }
      ]
    },
    {
      "cell_type": "code",
      "metadata": {
        "id": "MMn8jjsY2NYs",
        "outputId": "7358aaf3-e646-4992-beb8-659b0a9d3207",
        "colab": {
          "base_uri": "https://localhost:8080/",
          "height": 34
        }
      },
      "source": [
        "P2=tf.keras.layers.MaxPool2D(pool_size=(2,2),padding='valid')(P_C2)\n",
        "print(P2.shape)\n"
      ],
      "execution_count": null,
      "outputs": [
        {
          "output_type": "stream",
          "text": [
            "(None, 140, 140, 128)\n"
          ],
          "name": "stdout"
        }
      ]
    },
    {
      "cell_type": "code",
      "metadata": {
        "id": "Owypvj872Z62",
        "outputId": "40709602-e840-44c9-feb7-91f0b8c22e22",
        "colab": {
          "base_uri": "https://localhost:8080/",
          "height": 34
        }
      },
      "source": [
        "P2_C1=tf.keras.layers.Conv2D(256,3,activation='relu')(P2)\n",
        "print(P2_C1.shape)"
      ],
      "execution_count": null,
      "outputs": [
        {
          "output_type": "stream",
          "text": [
            "(None, 138, 138, 256)\n"
          ],
          "name": "stdout"
        }
      ]
    },
    {
      "cell_type": "code",
      "metadata": {
        "id": "m3gHREWh2dJJ",
        "outputId": "1f0cefd5-6a06-47bb-8ca5-6c85ae16a4c0",
        "colab": {
          "base_uri": "https://localhost:8080/",
          "height": 34
        }
      },
      "source": [
        "P2_C2=tf.keras.layers.Conv2D(256,3,activation='relu')(P2_C1)\n",
        "print(P2_C2.shape)"
      ],
      "execution_count": null,
      "outputs": [
        {
          "output_type": "stream",
          "text": [
            "(None, 136, 136, 256)\n"
          ],
          "name": "stdout"
        }
      ]
    },
    {
      "cell_type": "code",
      "metadata": {
        "id": "SNVG5TBU2oAf",
        "outputId": "a1b13f06-bd19-4360-e3d0-8849618f32f9",
        "colab": {
          "base_uri": "https://localhost:8080/",
          "height": 34
        }
      },
      "source": [
        "P3=tf.keras.layers.MaxPool2D(pool_size=(2,2),padding='valid')(P2_C2)\n",
        "print(P3.shape)"
      ],
      "execution_count": null,
      "outputs": [
        {
          "output_type": "stream",
          "text": [
            "(None, 68, 68, 256)\n"
          ],
          "name": "stdout"
        }
      ]
    },
    {
      "cell_type": "code",
      "metadata": {
        "id": "OUtRLFnh2r6Z",
        "outputId": "da47a49b-7803-4e52-f9df-d7ffa77f1e73",
        "colab": {
          "base_uri": "https://localhost:8080/",
          "height": 34
        }
      },
      "source": [
        "P3_C1=tf.keras.layers.Conv2D(512,3,activation='relu')(P3)\n",
        "print(P3_C1.shape)"
      ],
      "execution_count": null,
      "outputs": [
        {
          "output_type": "stream",
          "text": [
            "(None, 66, 66, 512)\n"
          ],
          "name": "stdout"
        }
      ]
    },
    {
      "cell_type": "code",
      "metadata": {
        "id": "sHwE4SwC2tzi",
        "outputId": "6f112e85-90ae-4dab-b42c-2de8e76ea75e",
        "colab": {
          "base_uri": "https://localhost:8080/",
          "height": 34
        }
      },
      "source": [
        "P3_C2=tf.keras.layers.Conv2D(512,3,activation='relu')(P3_C1)\n",
        "print(P3_C2.shape)"
      ],
      "execution_count": null,
      "outputs": [
        {
          "output_type": "stream",
          "text": [
            "(None, 64, 64, 512)\n"
          ],
          "name": "stdout"
        }
      ]
    },
    {
      "cell_type": "code",
      "metadata": {
        "id": "1n7l1QA22xvS",
        "outputId": "f7ef5da5-6977-4181-9535-eeb5f6b9166b",
        "colab": {
          "base_uri": "https://localhost:8080/",
          "height": 34
        }
      },
      "source": [
        "P4=tf.keras.layers.MaxPool2D(pool_size=(2,2),padding='valid')(P3_C2)\n",
        "print(P4.shape)"
      ],
      "execution_count": null,
      "outputs": [
        {
          "output_type": "stream",
          "text": [
            "(None, 32, 32, 512)\n"
          ],
          "name": "stdout"
        }
      ]
    },
    {
      "cell_type": "code",
      "metadata": {
        "id": "3GG8DyFy2x0r",
        "outputId": "177d4b90-6011-4a2a-8d75-82752422f890",
        "colab": {
          "base_uri": "https://localhost:8080/",
          "height": 34
        }
      },
      "source": [
        "P4_C1=tf.keras.layers.Conv2D(1024,3, activation='relu')(P4)\n",
        "print(P4_C1.shape)"
      ],
      "execution_count": null,
      "outputs": [
        {
          "output_type": "stream",
          "text": [
            "(None, 30, 30, 1024)\n"
          ],
          "name": "stdout"
        }
      ]
    },
    {
      "cell_type": "code",
      "metadata": {
        "id": "S4T30tfb2x3x",
        "outputId": "71b29a6b-6aa0-4c18-a784-a662579f71df",
        "colab": {
          "base_uri": "https://localhost:8080/",
          "height": 34
        }
      },
      "source": [
        "P4_C2=tf.keras.layers.Conv2D(1024,3, activation='relu')(P4_C1)\n",
        "print(P4_C2.shape)"
      ],
      "execution_count": null,
      "outputs": [
        {
          "output_type": "stream",
          "text": [
            "(None, 28, 28, 1024)\n"
          ],
          "name": "stdout"
        }
      ]
    },
    {
      "cell_type": "code",
      "metadata": {
        "id": "salJdkyX7ueL"
      },
      "source": [
        "#https://www.kaggle.com/cjansen/u-net-in-keras\n",
        "def get_crop_shape(target, refer):\n",
        "        # width, the 3rd dimension\n",
        "        cw = (target.get_shape()[2] - refer.get_shape()[2])\n",
        "        assert (cw >= 0)\n",
        "        if cw % 2 != 0:\n",
        "            cw1, cw2 = int(cw/2), int(cw/2) + 1\n",
        "        else:\n",
        "            cw1, cw2 = int(cw/2), int(cw/2)\n",
        "        # height, the 2nd dimension\n",
        "        ch = (target.get_shape()[1] - refer.get_shape()[1])\n",
        "        assert (ch >= 0)\n",
        "        if ch % 2 != 0:\n",
        "            ch1, ch2 = int(ch/2), int(ch/2) + 1\n",
        "        else:\n",
        "            ch1, ch2 = int(ch/2), int(ch/2)\n",
        "\n",
        "        return (ch1, ch2), (cw1, cw2)"
      ],
      "execution_count": null,
      "outputs": []
    },
    {
      "cell_type": "code",
      "metadata": {
        "id": "xQIGkWeG3tbx",
        "outputId": "831069a4-1bdf-45d1-f115-81452cc911bc",
        "colab": {
          "base_uri": "https://localhost:8080/",
          "height": 34
        }
      },
      "source": [
        "Up_1 = tf.keras.layers.Conv2DTranspose(512, (2, 2), strides=(2, 2), padding='same') (P4_C2)\n",
        "print(Up_1.shape)"
      ],
      "execution_count": null,
      "outputs": [
        {
          "output_type": "stream",
          "text": [
            "(None, 56, 56, 512)\n"
          ],
          "name": "stdout"
        }
      ]
    },
    {
      "cell_type": "code",
      "metadata": {
        "id": "NC1Ft4kO7wHq"
      },
      "source": [
        "ch, cw = get_crop_shape(P3_C2, Up_1)"
      ],
      "execution_count": null,
      "outputs": []
    },
    {
      "cell_type": "code",
      "metadata": {
        "id": "702WjKNK7F1V",
        "outputId": "ef0de7ca-bcb4-463e-f7d3-d7e20310c8b3",
        "colab": {
          "base_uri": "https://localhost:8080/",
          "height": 34
        }
      },
      "source": [
        "ch, cw = get_crop_shape(P3_C2, Up_1)\n",
        "crop_P3_C2 = tf.keras.layers.Cropping2D(cropping=(ch,cw))(P3_C2)\n",
        "print(crop_P3_C2.shape)"
      ],
      "execution_count": null,
      "outputs": [
        {
          "output_type": "stream",
          "text": [
            "(None, 56, 56, 512)\n"
          ],
          "name": "stdout"
        }
      ]
    },
    {
      "cell_type": "code",
      "metadata": {
        "id": "OvWE5tum8JmN",
        "outputId": "b6b1e328-1612-4068-b8dd-2a3d6b3d704c",
        "colab": {
          "base_uri": "https://localhost:8080/",
          "height": 34
        }
      },
      "source": [
        "ConCat1=tf.keras.layers.Concatenate()([Up_1,crop_P3_C2])\n",
        "print(ConCat1.shape)"
      ],
      "execution_count": null,
      "outputs": [
        {
          "output_type": "stream",
          "text": [
            "(None, 56, 56, 1024)\n"
          ],
          "name": "stdout"
        }
      ]
    },
    {
      "cell_type": "code",
      "metadata": {
        "id": "7-WOtMsE9CVE",
        "outputId": "dc05c674-5b50-45df-bd6f-de3064df6145",
        "colab": {
          "base_uri": "https://localhost:8080/",
          "height": 34
        }
      },
      "source": [
        "Up1_C1=tf.keras.layers.Conv2D(512,3,activation='relu')(ConCat1)\n",
        "print(Up1_C1.shape)"
      ],
      "execution_count": null,
      "outputs": [
        {
          "output_type": "stream",
          "text": [
            "(None, 54, 54, 512)\n"
          ],
          "name": "stdout"
        }
      ]
    },
    {
      "cell_type": "code",
      "metadata": {
        "id": "rerbfRli9K5D",
        "outputId": "ecb08ebb-8c97-4bb3-eeec-adf5e65615ba",
        "colab": {
          "base_uri": "https://localhost:8080/",
          "height": 34
        }
      },
      "source": [
        "Up1_C2=tf.keras.layers.Conv2D(512,3,activation='relu')(Up1_C1)\n",
        "print(Up1_C2.shape)"
      ],
      "execution_count": null,
      "outputs": [
        {
          "output_type": "stream",
          "text": [
            "(None, 52, 52, 512)\n"
          ],
          "name": "stdout"
        }
      ]
    },
    {
      "cell_type": "code",
      "metadata": {
        "id": "kDpYWUqY8eFa",
        "outputId": "7beebe0c-68f7-44ae-b79b-e712ead87474",
        "colab": {
          "base_uri": "https://localhost:8080/",
          "height": 34
        }
      },
      "source": [
        "up_2=tf.keras.layers.Conv2DTranspose(256,(2,2),strides=(2,2),padding='same')(Up1_C2)\n",
        "print(up_2.shape)"
      ],
      "execution_count": null,
      "outputs": [
        {
          "output_type": "stream",
          "text": [
            "(None, 104, 104, 256)\n"
          ],
          "name": "stdout"
        }
      ]
    },
    {
      "cell_type": "code",
      "metadata": {
        "id": "5tdxd6FP8q1K",
        "outputId": "fb77389e-f33b-4792-b214-c9f52d19a4ed",
        "colab": {
          "base_uri": "https://localhost:8080/",
          "height": 34
        }
      },
      "source": [
        "ch, cw = get_crop_shape(P2_C2, up_2)\n",
        "crop_P2_C2 = tf.keras.layers.Cropping2D(cropping=(ch,cw))(P2_C2)\n",
        "print(crop_P2_C2.shape)"
      ],
      "execution_count": null,
      "outputs": [
        {
          "output_type": "stream",
          "text": [
            "(None, 104, 104, 256)\n"
          ],
          "name": "stdout"
        }
      ]
    },
    {
      "cell_type": "code",
      "metadata": {
        "id": "4IUomaGe9Wm9",
        "outputId": "f67325e1-92bb-4297-9a3e-15c6cad12dc2",
        "colab": {
          "base_uri": "https://localhost:8080/",
          "height": 34
        }
      },
      "source": [
        "ConCat2=tf.keras.layers.Concatenate()([up_2,crop_P2_C2])\n",
        "print(ConCat2.shape)"
      ],
      "execution_count": null,
      "outputs": [
        {
          "output_type": "stream",
          "text": [
            "(None, 104, 104, 512)\n"
          ],
          "name": "stdout"
        }
      ]
    },
    {
      "cell_type": "code",
      "metadata": {
        "id": "-JZrC5MZ94AQ",
        "outputId": "c7e9c56e-f62e-4346-935c-abca50095d70",
        "colab": {
          "base_uri": "https://localhost:8080/",
          "height": 34
        }
      },
      "source": [
        "Up2_c1=tf.keras.layers.Conv2D(256,3, activation='relu')(ConCat2)\n",
        "print(Up2_c1.shape)\n"
      ],
      "execution_count": null,
      "outputs": [
        {
          "output_type": "stream",
          "text": [
            "(None, 102, 102, 256)\n"
          ],
          "name": "stdout"
        }
      ]
    },
    {
      "cell_type": "code",
      "metadata": {
        "id": "TodVBw-Y96lb",
        "outputId": "5f8f9354-c59f-4049-f402-704d49b7994d",
        "colab": {
          "base_uri": "https://localhost:8080/",
          "height": 34
        }
      },
      "source": [
        "Up2_c2=tf.keras.layers.Conv2D(256,3, activation='relu')(Up2_c1)\n",
        "print(Up2_c2.shape)"
      ],
      "execution_count": null,
      "outputs": [
        {
          "output_type": "stream",
          "text": [
            "(None, 100, 100, 256)\n"
          ],
          "name": "stdout"
        }
      ]
    },
    {
      "cell_type": "code",
      "metadata": {
        "id": "jUYS3c399_dh",
        "outputId": "f428b53f-9266-4783-a022-4cbcc720f7c3",
        "colab": {
          "base_uri": "https://localhost:8080/",
          "height": 34
        }
      },
      "source": [
        "up_3=tf.keras.layers.Conv2DTranspose(128,kernel_size=(2,2),strides=(2,2),padding='same')(Up2_c2)\n",
        "print(up_3.shape)"
      ],
      "execution_count": null,
      "outputs": [
        {
          "output_type": "stream",
          "text": [
            "(None, 200, 200, 128)\n"
          ],
          "name": "stdout"
        }
      ]
    },
    {
      "cell_type": "code",
      "metadata": {
        "id": "njMbpZVb-inL",
        "outputId": "bf105e13-ff5a-4194-a20a-a338d34004de",
        "colab": {
          "base_uri": "https://localhost:8080/",
          "height": 34
        }
      },
      "source": [
        "ch, cw = get_crop_shape(P_C2, up_3)\n",
        "crop_P_C2 = tf.keras.layers.Cropping2D(cropping=(ch,cw))(P_C2)\n",
        "print(crop_P_C2.shape)"
      ],
      "execution_count": null,
      "outputs": [
        {
          "output_type": "stream",
          "text": [
            "(None, 200, 200, 128)\n"
          ],
          "name": "stdout"
        }
      ]
    },
    {
      "cell_type": "code",
      "metadata": {
        "id": "0t-qhE0q-qHE",
        "outputId": "db02c7bc-ffb6-4381-c3b5-2afd7b828e1c",
        "colab": {
          "base_uri": "https://localhost:8080/",
          "height": 34
        }
      },
      "source": [
        "ConCat3=tf.keras.layers.Concatenate()([up_3,crop_P_C2])\n",
        "print(ConCat3.shape)"
      ],
      "execution_count": null,
      "outputs": [
        {
          "output_type": "stream",
          "text": [
            "(None, 200, 200, 256)\n"
          ],
          "name": "stdout"
        }
      ]
    },
    {
      "cell_type": "code",
      "metadata": {
        "id": "eB35rytA-sfB",
        "outputId": "7a23e71f-8a7f-40e2-cbef-38fd0bc0114e",
        "colab": {
          "base_uri": "https://localhost:8080/",
          "height": 34
        }
      },
      "source": [
        "Up3_c1=tf.keras.layers.Conv2D(128,3,activation='relu')(ConCat3)\n",
        "print(Up3_c1.shape)"
      ],
      "execution_count": null,
      "outputs": [
        {
          "output_type": "stream",
          "text": [
            "(None, 198, 198, 128)\n"
          ],
          "name": "stdout"
        }
      ]
    },
    {
      "cell_type": "code",
      "metadata": {
        "id": "6pwZ8U5y-2zL",
        "outputId": "44082c85-3d87-46e0-e3d0-6b2f7d274b34",
        "colab": {
          "base_uri": "https://localhost:8080/",
          "height": 34
        }
      },
      "source": [
        "Up3_c2=tf.keras.layers.Conv2D(128,3, activation='relu')(Up3_c1)\n",
        "print(Up3_c2.shape)\n"
      ],
      "execution_count": null,
      "outputs": [
        {
          "output_type": "stream",
          "text": [
            "(None, 196, 196, 128)\n"
          ],
          "name": "stdout"
        }
      ]
    },
    {
      "cell_type": "code",
      "metadata": {
        "id": "U7RBD1TX-9Rq",
        "outputId": "c1b92f61-b8b1-466f-9427-228950a2bf0a",
        "colab": {
          "base_uri": "https://localhost:8080/",
          "height": 34
        }
      },
      "source": [
        "up_4=tf.keras.layers.Conv2DTranspose(64,kernel_size=(2,2),strides=(2,2),padding='same')(Up3_c2)\n",
        "print(up_4.shape)"
      ],
      "execution_count": null,
      "outputs": [
        {
          "output_type": "stream",
          "text": [
            "(None, 392, 392, 64)\n"
          ],
          "name": "stdout"
        }
      ]
    },
    {
      "cell_type": "code",
      "metadata": {
        "id": "M23_3Es6_DCZ",
        "outputId": "6ca651a0-e7be-47c5-f3d2-f37d6f4ba448",
        "colab": {
          "base_uri": "https://localhost:8080/",
          "height": 34
        }
      },
      "source": [
        "ch, cw = get_crop_shape(C2, up_4)\n",
        "crop_C2 = tf.keras.layers.Cropping2D(cropping=(ch,cw))(C2)\n",
        "print(crop_C2.shape)\n"
      ],
      "execution_count": null,
      "outputs": [
        {
          "output_type": "stream",
          "text": [
            "(None, 392, 392, 64)\n"
          ],
          "name": "stdout"
        }
      ]
    },
    {
      "cell_type": "code",
      "metadata": {
        "id": "ixJzlRNt_KzN",
        "outputId": "0a2789c3-16e1-4f56-f4ce-3acc621d6ca0",
        "colab": {
          "base_uri": "https://localhost:8080/",
          "height": 34
        }
      },
      "source": [
        "ConCat4=tf.keras.layers.Concatenate()([crop_C2,up_4])\n",
        "print(ConCat4.shape)"
      ],
      "execution_count": null,
      "outputs": [
        {
          "output_type": "stream",
          "text": [
            "(None, 392, 392, 128)\n"
          ],
          "name": "stdout"
        }
      ]
    },
    {
      "cell_type": "code",
      "metadata": {
        "id": "VSaEFotX_QpT",
        "outputId": "b5682fd5-8d7a-4a56-bcc6-098acc911d51",
        "colab": {
          "base_uri": "https://localhost:8080/",
          "height": 34
        }
      },
      "source": [
        "Up4_c1=tf.keras.layers.Conv2D(64,3,activation='relu')(ConCat4)\n",
        "print(Up4_c1.shape)"
      ],
      "execution_count": null,
      "outputs": [
        {
          "output_type": "stream",
          "text": [
            "(None, 390, 390, 64)\n"
          ],
          "name": "stdout"
        }
      ]
    },
    {
      "cell_type": "code",
      "metadata": {
        "id": "VNCRhYmQ_VVc",
        "outputId": "c1a66760-a8d5-4c02-e871-e0cdf7f8bad7",
        "colab": {
          "base_uri": "https://localhost:8080/",
          "height": 34
        }
      },
      "source": [
        "Up4_c2=tf.keras.layers.Conv2D(64,3,activation='relu')(Up4_c1)\n",
        "print(Up4_c2.shape)"
      ],
      "execution_count": null,
      "outputs": [
        {
          "output_type": "stream",
          "text": [
            "(None, 388, 388, 64)\n"
          ],
          "name": "stdout"
        }
      ]
    },
    {
      "cell_type": "code",
      "metadata": {
        "id": "d0zKi7XW_dEs",
        "outputId": "99a98747-48f5-4629-856a-9db6a63b24d6",
        "colab": {
          "base_uri": "https://localhost:8080/",
          "height": 34
        }
      },
      "source": [
        "c_1x1=tf.keras.layers.Conv2D(1,1,activation='softmax',padding='same')(Up4_c2)\n",
        "print(c_1x1.shape)"
      ],
      "execution_count": null,
      "outputs": [
        {
          "output_type": "stream",
          "text": [
            "(None, 388, 388, 1)\n"
          ],
          "name": "stdout"
        }
      ]
    }
  ]
}